{
  "nbformat": 4,
  "nbformat_minor": 0,
  "metadata": {
    "colab": {
      "name": "yolo_rimiiii.ipynb",
      "provenance": [],
      "collapsed_sections": [],
      "machine_shape": "hm",
      "authorship_tag": "ABX9TyMhtIu/2lvSk8JRItVjJdYI",
      "include_colab_link": true
    },
    "kernelspec": {
      "name": "python3",
      "display_name": "Python 3"
    },
    "language_info": {
      "name": "python"
    },
    "accelerator": "GPU",
    "widgets": {
      "application/vnd.jupyter.widget-state+json": {
        "f8e07c70dfb4467ea1571038c4fb446a": {
          "model_module": "@jupyter-widgets/controls",
          "model_name": "HBoxModel",
          "model_module_version": "1.5.0",
          "state": {
            "_view_name": "HBoxView",
            "_dom_classes": [],
            "_model_name": "HBoxModel",
            "_view_module": "@jupyter-widgets/controls",
            "_model_module_version": "1.5.0",
            "_view_count": null,
            "_view_module_version": "1.5.0",
            "box_style": "",
            "layout": "IPY_MODEL_1affdf369f804166a72843dc5496ffc9",
            "_model_module": "@jupyter-widgets/controls",
            "children": [
              "IPY_MODEL_fd6f6487206c4b209f8db158c19e54f1",
              "IPY_MODEL_3daef1fbe07a46b6a0e1499087b4b930",
              "IPY_MODEL_41666b4b7d7040ddb806f812fc062667"
            ]
          }
        },
        "1affdf369f804166a72843dc5496ffc9": {
          "model_module": "@jupyter-widgets/base",
          "model_name": "LayoutModel",
          "model_module_version": "1.2.0",
          "state": {
            "_view_name": "LayoutView",
            "grid_template_rows": null,
            "right": null,
            "justify_content": null,
            "_view_module": "@jupyter-widgets/base",
            "overflow": null,
            "_model_module_version": "1.2.0",
            "_view_count": null,
            "flex_flow": null,
            "width": null,
            "min_width": null,
            "border": null,
            "align_items": null,
            "bottom": null,
            "_model_module": "@jupyter-widgets/base",
            "top": null,
            "grid_column": null,
            "overflow_y": null,
            "overflow_x": null,
            "grid_auto_flow": null,
            "grid_area": null,
            "grid_template_columns": null,
            "flex": null,
            "_model_name": "LayoutModel",
            "justify_items": null,
            "grid_row": null,
            "max_height": null,
            "align_content": null,
            "visibility": null,
            "align_self": null,
            "height": null,
            "min_height": null,
            "padding": null,
            "grid_auto_rows": null,
            "grid_gap": null,
            "max_width": null,
            "order": null,
            "_view_module_version": "1.2.0",
            "grid_template_areas": null,
            "object_position": null,
            "object_fit": null,
            "grid_auto_columns": null,
            "margin": null,
            "display": null,
            "left": null
          }
        },
        "fd6f6487206c4b209f8db158c19e54f1": {
          "model_module": "@jupyter-widgets/controls",
          "model_name": "HTMLModel",
          "model_module_version": "1.5.0",
          "state": {
            "_view_name": "HTMLView",
            "style": "IPY_MODEL_fc7eb1a3324f49a984dc985ce41338fe",
            "_dom_classes": [],
            "description": "",
            "_model_name": "HTMLModel",
            "placeholder": "​",
            "_view_module": "@jupyter-widgets/controls",
            "_model_module_version": "1.5.0",
            "value": " 11%",
            "_view_count": null,
            "_view_module_version": "1.5.0",
            "description_tooltip": null,
            "_model_module": "@jupyter-widgets/controls",
            "layout": "IPY_MODEL_211fec6048104474b1e5c410fe283385"
          }
        },
        "3daef1fbe07a46b6a0e1499087b4b930": {
          "model_module": "@jupyter-widgets/controls",
          "model_name": "FloatProgressModel",
          "model_module_version": "1.5.0",
          "state": {
            "_view_name": "ProgressView",
            "style": "IPY_MODEL_8889eceaebdf434aa5d8ea8781339313",
            "_dom_classes": [],
            "description": "",
            "_model_name": "FloatProgressModel",
            "bar_style": "",
            "max": 62622,
            "_view_module": "@jupyter-widgets/controls",
            "_model_module_version": "1.5.0",
            "value": 6643,
            "_view_count": null,
            "_view_module_version": "1.5.0",
            "orientation": "horizontal",
            "min": 0,
            "description_tooltip": null,
            "_model_module": "@jupyter-widgets/controls",
            "layout": "IPY_MODEL_257ef3c9b40342a8b9cd3bee519ae20e"
          }
        },
        "41666b4b7d7040ddb806f812fc062667": {
          "model_module": "@jupyter-widgets/controls",
          "model_name": "HTMLModel",
          "model_module_version": "1.5.0",
          "state": {
            "_view_name": "HTMLView",
            "style": "IPY_MODEL_36543ee926914989a704616fb7b3a93a",
            "_dom_classes": [],
            "description": "",
            "_model_name": "HTMLModel",
            "placeholder": "​",
            "_view_module": "@jupyter-widgets/controls",
            "_model_module_version": "1.5.0",
            "value": " 6642/62622 [39:28&lt;4:45:48,  3.26it/s]",
            "_view_count": null,
            "_view_module_version": "1.5.0",
            "description_tooltip": null,
            "_model_module": "@jupyter-widgets/controls",
            "layout": "IPY_MODEL_cb3e614a6fba40618e101acf7a00559b"
          }
        },
        "fc7eb1a3324f49a984dc985ce41338fe": {
          "model_module": "@jupyter-widgets/controls",
          "model_name": "DescriptionStyleModel",
          "model_module_version": "1.5.0",
          "state": {
            "_view_name": "StyleView",
            "_model_name": "DescriptionStyleModel",
            "description_width": "",
            "_view_module": "@jupyter-widgets/base",
            "_model_module_version": "1.5.0",
            "_view_count": null,
            "_view_module_version": "1.2.0",
            "_model_module": "@jupyter-widgets/controls"
          }
        },
        "211fec6048104474b1e5c410fe283385": {
          "model_module": "@jupyter-widgets/base",
          "model_name": "LayoutModel",
          "model_module_version": "1.2.0",
          "state": {
            "_view_name": "LayoutView",
            "grid_template_rows": null,
            "right": null,
            "justify_content": null,
            "_view_module": "@jupyter-widgets/base",
            "overflow": null,
            "_model_module_version": "1.2.0",
            "_view_count": null,
            "flex_flow": null,
            "width": null,
            "min_width": null,
            "border": null,
            "align_items": null,
            "bottom": null,
            "_model_module": "@jupyter-widgets/base",
            "top": null,
            "grid_column": null,
            "overflow_y": null,
            "overflow_x": null,
            "grid_auto_flow": null,
            "grid_area": null,
            "grid_template_columns": null,
            "flex": null,
            "_model_name": "LayoutModel",
            "justify_items": null,
            "grid_row": null,
            "max_height": null,
            "align_content": null,
            "visibility": null,
            "align_self": null,
            "height": null,
            "min_height": null,
            "padding": null,
            "grid_auto_rows": null,
            "grid_gap": null,
            "max_width": null,
            "order": null,
            "_view_module_version": "1.2.0",
            "grid_template_areas": null,
            "object_position": null,
            "object_fit": null,
            "grid_auto_columns": null,
            "margin": null,
            "display": null,
            "left": null
          }
        },
        "8889eceaebdf434aa5d8ea8781339313": {
          "model_module": "@jupyter-widgets/controls",
          "model_name": "ProgressStyleModel",
          "model_module_version": "1.5.0",
          "state": {
            "_view_name": "StyleView",
            "_model_name": "ProgressStyleModel",
            "description_width": "",
            "_view_module": "@jupyter-widgets/base",
            "_model_module_version": "1.5.0",
            "_view_count": null,
            "_view_module_version": "1.2.0",
            "bar_color": null,
            "_model_module": "@jupyter-widgets/controls"
          }
        },
        "257ef3c9b40342a8b9cd3bee519ae20e": {
          "model_module": "@jupyter-widgets/base",
          "model_name": "LayoutModel",
          "model_module_version": "1.2.0",
          "state": {
            "_view_name": "LayoutView",
            "grid_template_rows": null,
            "right": null,
            "justify_content": null,
            "_view_module": "@jupyter-widgets/base",
            "overflow": null,
            "_model_module_version": "1.2.0",
            "_view_count": null,
            "flex_flow": null,
            "width": null,
            "min_width": null,
            "border": null,
            "align_items": null,
            "bottom": null,
            "_model_module": "@jupyter-widgets/base",
            "top": null,
            "grid_column": null,
            "overflow_y": null,
            "overflow_x": null,
            "grid_auto_flow": null,
            "grid_area": null,
            "grid_template_columns": null,
            "flex": null,
            "_model_name": "LayoutModel",
            "justify_items": null,
            "grid_row": null,
            "max_height": null,
            "align_content": null,
            "visibility": null,
            "align_self": null,
            "height": null,
            "min_height": null,
            "padding": null,
            "grid_auto_rows": null,
            "grid_gap": null,
            "max_width": null,
            "order": null,
            "_view_module_version": "1.2.0",
            "grid_template_areas": null,
            "object_position": null,
            "object_fit": null,
            "grid_auto_columns": null,
            "margin": null,
            "display": null,
            "left": null
          }
        },
        "36543ee926914989a704616fb7b3a93a": {
          "model_module": "@jupyter-widgets/controls",
          "model_name": "DescriptionStyleModel",
          "model_module_version": "1.5.0",
          "state": {
            "_view_name": "StyleView",
            "_model_name": "DescriptionStyleModel",
            "description_width": "",
            "_view_module": "@jupyter-widgets/base",
            "_model_module_version": "1.5.0",
            "_view_count": null,
            "_view_module_version": "1.2.0",
            "_model_module": "@jupyter-widgets/controls"
          }
        },
        "cb3e614a6fba40618e101acf7a00559b": {
          "model_module": "@jupyter-widgets/base",
          "model_name": "LayoutModel",
          "model_module_version": "1.2.0",
          "state": {
            "_view_name": "LayoutView",
            "grid_template_rows": null,
            "right": null,
            "justify_content": null,
            "_view_module": "@jupyter-widgets/base",
            "overflow": null,
            "_model_module_version": "1.2.0",
            "_view_count": null,
            "flex_flow": null,
            "width": null,
            "min_width": null,
            "border": null,
            "align_items": null,
            "bottom": null,
            "_model_module": "@jupyter-widgets/base",
            "top": null,
            "grid_column": null,
            "overflow_y": null,
            "overflow_x": null,
            "grid_auto_flow": null,
            "grid_area": null,
            "grid_template_columns": null,
            "flex": null,
            "_model_name": "LayoutModel",
            "justify_items": null,
            "grid_row": null,
            "max_height": null,
            "align_content": null,
            "visibility": null,
            "align_self": null,
            "height": null,
            "min_height": null,
            "padding": null,
            "grid_auto_rows": null,
            "grid_gap": null,
            "max_width": null,
            "order": null,
            "_view_module_version": "1.2.0",
            "grid_template_areas": null,
            "object_position": null,
            "object_fit": null,
            "grid_auto_columns": null,
            "margin": null,
            "display": null,
            "left": null
          }
        }
      }
    }
  },
  "cells": [
    {
      "cell_type": "markdown",
      "metadata": {
        "id": "view-in-github",
        "colab_type": "text"
      },
      "source": [
        "<a href=\"https://colab.research.google.com/github/rimiiii/capsule_endoscopy_detection/blob/main/yolo.ipynb\" target=\"_parent\"><img src=\"https://colab.research.google.com/assets/colab-badge.svg\" alt=\"Open In Colab\"/></a>"
      ]
    },
    {
      "cell_type": "code",
      "execution_count": null,
      "metadata": {
        "id": "_jEQyUuJ63Qc"
      },
      "outputs": [],
      "source": [
        "# google drive 마운드\n",
        "# json file 불러오기\n",
        "# image decoding해서 저장하기(train, test 각각)\n",
        "# yolo에 맞는 label 만들기\n",
        "# train test set 나누기\n",
        "# yolo 모델 다운로드\n",
        "# wandb 이용하기\n",
        "# yaml 만들기\n",
        "# 모델 train\n",
        "# test\n",
        "# 결과 파일 저장"
      ]
    },
    {
      "cell_type": "code",
      "source": [
        "import json\n",
        "from google.colab import drive\n",
        "from glob import glob\n",
        "import base64\n",
        "import numpy as np\n",
        "import cv2\n",
        "from matplotlib import pyplot as plt\n",
        "import pandas as pd\n",
        "import os\n",
        "from tqdm.notebook import tqdm\n",
        "%matplotlib inline\n",
        "\n",
        "# google drive 마운드\n",
        "drive.mount('/gdrive')"
      ],
      "metadata": {
        "colab": {
          "base_uri": "https://localhost:8080/"
        },
        "id": "zTV569Bp7lj_",
        "outputId": "e07105fe-11fa-408f-a564-b5947534adaa"
      },
      "execution_count": 1,
      "outputs": [
        {
          "output_type": "stream",
          "name": "stdout",
          "text": [
            "Mounted at /gdrive\n"
          ]
        }
      ]
    },
    {
      "cell_type": "code",
      "source": [
        "# path 지정\n",
        "base_path = '/gdrive/My Drive/data/capsule_endoscopy_detection'\n",
        "\n",
        "train_path_list = glob(base_path+'/train/train*')\n",
        "test_path_list = glob(base_path+'/test/test*')"
      ],
      "metadata": {
        "id": "7sC3HJoY79vD"
      },
      "execution_count": 5,
      "outputs": []
    },
    {
      "cell_type": "code",
      "source": [
        "# class 종류 확인하기\n",
        "class_ids = pd.read_csv(base_path+'/class_id_info.csv')\n",
        "\n",
        "# class dictionary 만들기\n",
        "# 01_ulcer: 0 의 형태\n",
        "categories = {}\n",
        "for id in class_ids.iloc():\n",
        "  categories[id['class']] = id['class_id']-1\n",
        "\n",
        "class_ids"
      ],
      "metadata": {
        "colab": {
          "base_uri": "https://localhost:8080/",
          "height": 175
        },
        "id": "R_-SBVukiSr4",
        "outputId": "672b3b1d-ae52-41a5-90e8-8e9b59830e55"
      },
      "execution_count": 7,
      "outputs": [
        {
          "output_type": "execute_result",
          "data": {
            "text/html": [
              "<div>\n",
              "<style scoped>\n",
              "    .dataframe tbody tr th:only-of-type {\n",
              "        vertical-align: middle;\n",
              "    }\n",
              "\n",
              "    .dataframe tbody tr th {\n",
              "        vertical-align: top;\n",
              "    }\n",
              "\n",
              "    .dataframe thead th {\n",
              "        text-align: right;\n",
              "    }\n",
              "</style>\n",
              "<table border=\"1\" class=\"dataframe\">\n",
              "  <thead>\n",
              "    <tr style=\"text-align: right;\">\n",
              "      <th></th>\n",
              "      <th>class</th>\n",
              "      <th>class_id</th>\n",
              "    </tr>\n",
              "  </thead>\n",
              "  <tbody>\n",
              "    <tr>\n",
              "      <th>0</th>\n",
              "      <td>01_ulcer</td>\n",
              "      <td>1</td>\n",
              "    </tr>\n",
              "    <tr>\n",
              "      <th>1</th>\n",
              "      <td>02_mass</td>\n",
              "      <td>2</td>\n",
              "    </tr>\n",
              "    <tr>\n",
              "      <th>2</th>\n",
              "      <td>04_lymph</td>\n",
              "      <td>3</td>\n",
              "    </tr>\n",
              "    <tr>\n",
              "      <th>3</th>\n",
              "      <td>05_bleeding</td>\n",
              "      <td>4</td>\n",
              "    </tr>\n",
              "  </tbody>\n",
              "</table>\n",
              "</div>"
            ],
            "text/plain": [
              "         class  class_id\n",
              "0     01_ulcer         1\n",
              "1      02_mass         2\n",
              "2     04_lymph         3\n",
              "3  05_bleeding         4"
            ]
          },
          "metadata": {},
          "execution_count": 7
        }
      ]
    },
    {
      "cell_type": "code",
      "source": [
        "def x1x2y1y2(bbox):\n",
        "  #x1,x2,y1,y2 구하기\n",
        "  x1 = min(bbox[:,0])\n",
        "  x2 = max(bbox[:,0])\n",
        "  y1 = min(bbox[:,1])\n",
        "  y2 = max(bbox[:,1])\n",
        "  return x1,x2,y1,y2\n",
        "\n",
        "def xcycwh(x1,x2,y1,y2,json_file):\n",
        "  xc = (x1+x2)/2\n",
        "  yc = (y1+y2)/2\n",
        "  w = (x2-x1)\n",
        "  h = (y2-y1)\n",
        "  # img size로 나누기\n",
        "  xc = np.round(xc/json_file['imageWidth'], 6)\n",
        "  yc = np.round(yc/json_file['imageHeight'], 6)\n",
        "  w = np.round(w/json_file['imageWidth'], 6)\n",
        "  h = np.round(h/json_file['imageHeight'], 6)\n",
        "  return xc,yc,w,h"
      ],
      "metadata": {
        "id": "TCSIhGBNfGpH"
      },
      "execution_count": 8,
      "outputs": []
    },
    {
      "cell_type": "code",
      "source": [
        "# 함수화하기\n",
        "def save_image_label(train_path_list, mode):\n",
        "  #image, labels 저장할 path 만들기\n",
        "  save_path = base_path+'/{}'.format(mode)\n",
        "  save_image_path = save_path+'/images/'\n",
        "  save_label_path = save_path+'/labels/'\n",
        "\n",
        "  os.makedirs(save_image_path, exist_ok=True)\n",
        "  os.makedirs(save_label_path, exist_ok=True)\n",
        "\n",
        "  for train_path in tqdm(train_path_list):\n",
        "    # json file 불러오기\n",
        "    with open(train_path, 'r') as f:\n",
        "      json_file = json.load(f)\n",
        "\n",
        "    # image, label file path 만들기\n",
        "    file_name = json_file['file_name']\n",
        "    image_file_path = (save_image_path+file_name).replace('json', 'png')\n",
        "    txt_file_path = (save_label_path+file_name).replace('json', 'txt')\n",
        "\n",
        "    # image decoding해서 저장하기\n",
        "    image_bytes = base64.b64decode(json_file['imageData']) # base64를 byte 단위로 데이터 저장\n",
        "    img = np.frombuffer(image_bytes, dtype=np.uint8) # uint8 형태로 반환\n",
        "    img = cv2.imdecode(img, cv2.IMREAD_COLOR)#image를 3차원으로 변환해줌\n",
        "    cv2.imwrite(image_file_path, img) #png로 저장할땐 BGR로\n",
        "\n",
        "    # train만 label 저장하기\n",
        "    # 저장할 형태: (class, x_center, y_center, width, height)\n",
        "    # 값이 0과 1 사이로 존재해야 함\n",
        "    if mode == 'train':\n",
        "      with open(txt_file_path, 'w') as f:\n",
        "        for i in json_file['shapes']:\n",
        "          bbox = np.array(i['points'])\n",
        "          x1, x2, y1, y2 = x1x2y1y2(bbox)\n",
        "          xc, yc, w, h  = xcycwh(x1, x2, y1, y2, json_file)\n",
        "          # (class, x_center, y_center, width, height) txt 파일로 저장\n",
        "          f.write(f\"{categories[i['label']]}\\t{xc}\\t{yc}\\t{w}\\t{h}\\n\")"
      ],
      "metadata": {
        "id": "Q6RIDl48JAqv"
      },
      "execution_count": 9,
      "outputs": []
    },
    {
      "cell_type": "code",
      "source": [
        "save_image_label(train_path_list, 'train')\n",
        "save_image_label(test_path_list, 'test')"
      ],
      "metadata": {
        "colab": {
          "base_uri": "https://localhost:8080/",
          "height": 49,
          "referenced_widgets": [
            "f8e07c70dfb4467ea1571038c4fb446a",
            "1affdf369f804166a72843dc5496ffc9",
            "fd6f6487206c4b209f8db158c19e54f1",
            "3daef1fbe07a46b6a0e1499087b4b930",
            "41666b4b7d7040ddb806f812fc062667",
            "fc7eb1a3324f49a984dc985ce41338fe",
            "211fec6048104474b1e5c410fe283385",
            "8889eceaebdf434aa5d8ea8781339313",
            "257ef3c9b40342a8b9cd3bee519ae20e",
            "36543ee926914989a704616fb7b3a93a",
            "cb3e614a6fba40618e101acf7a00559b"
          ]
        },
        "id": "SbNEshuSiaN5",
        "outputId": "9ef9a642-5fd1-4211-f473-e61a365949a2"
      },
      "execution_count": null,
      "outputs": [
        {
          "output_type": "display_data",
          "data": {
            "application/vnd.jupyter.widget-view+json": {
              "model_id": "f8e07c70dfb4467ea1571038c4fb446a",
              "version_minor": 0,
              "version_major": 2
            },
            "text/plain": [
              "  0%|          | 0/62622 [00:00<?, ?it/s]"
            ]
          },
          "metadata": {}
        }
      ]
    },
    {
      "cell_type": "code",
      "source": [
        "# train, validation split\n",
        "from sklearn.model_selection import train_test_split\n",
        "\n",
        "train, validation = train_test_split(train_path_list, test_size=0.33, random_state=100)"
      ],
      "metadata": {
        "colab": {
          "base_uri": "https://localhost:8080/",
          "height": 520
        },
        "id": "mRNPGQ_ZsXkG",
        "outputId": "37e4396a-bcd3-4bee-c1ea-2a0ab7c55f51"
      },
      "execution_count": null,
      "outputs": [
        {
          "output_type": "error",
          "ename": "ValueError",
          "evalue": "ignored",
          "traceback": [
            "\u001b[0;31m---------------------------------------------------------------------------\u001b[0m",
            "\u001b[0;31mValueError\u001b[0m                                Traceback (most recent call last)",
            "\u001b[0;32m<ipython-input-9-5fdd22b17e55>\u001b[0m in \u001b[0;36m<module>\u001b[0;34m()\u001b[0m\n\u001b[1;32m      2\u001b[0m \u001b[0;32mfrom\u001b[0m \u001b[0msklearn\u001b[0m\u001b[0;34m.\u001b[0m\u001b[0mmodel_selection\u001b[0m \u001b[0;32mimport\u001b[0m \u001b[0mtrain_test_split\u001b[0m\u001b[0;34m\u001b[0m\u001b[0;34m\u001b[0m\u001b[0m\n\u001b[1;32m      3\u001b[0m \u001b[0;34m\u001b[0m\u001b[0m\n\u001b[0;32m----> 4\u001b[0;31m \u001b[0mtrain\u001b[0m\u001b[0;34m,\u001b[0m \u001b[0mvalidation\u001b[0m \u001b[0;34m=\u001b[0m \u001b[0mtrain_test_split\u001b[0m\u001b[0;34m(\u001b[0m\u001b[0mtrain_image_path\u001b[0m\u001b[0;34m,\u001b[0m \u001b[0mtest_size\u001b[0m\u001b[0;34m=\u001b[0m\u001b[0;36m0.33\u001b[0m\u001b[0;34m,\u001b[0m \u001b[0mrandom_state\u001b[0m\u001b[0;34m=\u001b[0m\u001b[0;36m100\u001b[0m\u001b[0;34m)\u001b[0m\u001b[0;34m\u001b[0m\u001b[0;34m\u001b[0m\u001b[0m\n\u001b[0m",
            "\u001b[0;32m/usr/local/lib/python3.7/dist-packages/sklearn/model_selection/_split.py\u001b[0m in \u001b[0;36mtrain_test_split\u001b[0;34m(test_size, train_size, random_state, shuffle, stratify, *arrays)\u001b[0m\n\u001b[1;32m   2421\u001b[0m     \u001b[0mn_samples\u001b[0m \u001b[0;34m=\u001b[0m \u001b[0m_num_samples\u001b[0m\u001b[0;34m(\u001b[0m\u001b[0marrays\u001b[0m\u001b[0;34m[\u001b[0m\u001b[0;36m0\u001b[0m\u001b[0;34m]\u001b[0m\u001b[0;34m)\u001b[0m\u001b[0;34m\u001b[0m\u001b[0;34m\u001b[0m\u001b[0m\n\u001b[1;32m   2422\u001b[0m     n_train, n_test = _validate_shuffle_split(\n\u001b[0;32m-> 2423\u001b[0;31m         \u001b[0mn_samples\u001b[0m\u001b[0;34m,\u001b[0m \u001b[0mtest_size\u001b[0m\u001b[0;34m,\u001b[0m \u001b[0mtrain_size\u001b[0m\u001b[0;34m,\u001b[0m \u001b[0mdefault_test_size\u001b[0m\u001b[0;34m=\u001b[0m\u001b[0;36m0.25\u001b[0m\u001b[0;34m\u001b[0m\u001b[0;34m\u001b[0m\u001b[0m\n\u001b[0m\u001b[1;32m   2424\u001b[0m     )\n\u001b[1;32m   2425\u001b[0m \u001b[0;34m\u001b[0m\u001b[0m\n",
            "\u001b[0;32m/usr/local/lib/python3.7/dist-packages/sklearn/model_selection/_split.py\u001b[0m in \u001b[0;36m_validate_shuffle_split\u001b[0;34m(n_samples, test_size, train_size, default_test_size)\u001b[0m\n\u001b[1;32m   2099\u001b[0m             \u001b[0;34m\"With n_samples={}, test_size={} and train_size={}, the \"\u001b[0m\u001b[0;34m\u001b[0m\u001b[0;34m\u001b[0m\u001b[0m\n\u001b[1;32m   2100\u001b[0m             \u001b[0;34m\"resulting train set will be empty. Adjust any of the \"\u001b[0m\u001b[0;34m\u001b[0m\u001b[0;34m\u001b[0m\u001b[0m\n\u001b[0;32m-> 2101\u001b[0;31m             \u001b[0;34m\"aforementioned parameters.\"\u001b[0m\u001b[0;34m.\u001b[0m\u001b[0mformat\u001b[0m\u001b[0;34m(\u001b[0m\u001b[0mn_samples\u001b[0m\u001b[0;34m,\u001b[0m \u001b[0mtest_size\u001b[0m\u001b[0;34m,\u001b[0m \u001b[0mtrain_size\u001b[0m\u001b[0;34m)\u001b[0m\u001b[0;34m\u001b[0m\u001b[0;34m\u001b[0m\u001b[0m\n\u001b[0m\u001b[1;32m   2102\u001b[0m         )\n\u001b[1;32m   2103\u001b[0m \u001b[0;34m\u001b[0m\u001b[0m\n",
            "\u001b[0;31mValueError\u001b[0m: With n_samples=0, test_size=0.33 and train_size=None, the resulting train set will be empty. Adjust any of the aforementioned parameters."
          ]
        }
      ]
    },
    {
      "cell_type": "code",
      "source": [
        "# train, validation path가 적혀있는 텍스트 파일 만들기\n",
        "with open(base_path+'/train_dataset.txt', 'w') as f:\n",
        "  for i in train:\n",
        "    f.write(i+'\\n')\n",
        "\n",
        "with open(base_path+'/validation_dataset.txt', 'w') as f:\n",
        "  for i in validation:\n",
        "    f.write(i+'\\n')"
      ],
      "metadata": {
        "id": "LPmYNUqjs0lx"
      },
      "execution_count": null,
      "outputs": []
    },
    {
      "cell_type": "code",
      "source": [
        "import yaml\n",
        "\n",
        "#yaml 파일 만들기\n",
        "yaml_file = dict(\n",
        "    train = base_path+'/train_dataset.txt',\n",
        "    val = base_path+'/validation_dataset.txt',\n",
        "    nc= 4,\n",
        "    names= ['01_ulcer', '02_mass', '04_lymph', '05_bleeding'])\n",
        "\n",
        "with open('./yolo.yaml', 'w') as f:\n",
        "  yaml.dump(yaml_file, f, default_flow_style=True)"
      ],
      "metadata": {
        "id": "g71qiTs77wCm"
      },
      "execution_count": null,
      "outputs": []
    },
    {
      "cell_type": "code",
      "source": [
        "# yolo 다운로드\n",
        "!git clone https://github.com/ultralytics/yolov5\n",
        "!pip install -qr ./yolov5/requirements.txt"
      ],
      "metadata": {
        "id": "ueuiswdOtIja"
      },
      "execution_count": null,
      "outputs": []
    },
    {
      "cell_type": "code",
      "source": [
        "!pip install -q wandb\n",
        "import wandb\n",
        "wandb.login()"
      ],
      "metadata": {
        "id": "VZcttjzKt5dm"
      },
      "execution_count": null,
      "outputs": []
    },
    {
      "cell_type": "code",
      "source": [
        "import yaml\n",
        "\n",
        "#yaml 파일 만들기\n",
        "yaml_file = dict(\n",
        "    path =  '/toy_train',\n",
        "    train = 'images',\n",
        "    val = 'iamges',\n",
        "    nc= 4,\n",
        "    names= ['01_ulcer', '02_mass', '04_lymph', '05_bleeding'])\n",
        "\n",
        "with open('./yolo.yaml', 'w') as f:\n",
        "  yaml.dump(yaml_file, f, default_flow_style=True)"
      ],
      "metadata": {
        "id": "UB_QbL6kuxz_"
      },
      "execution_count": null,
      "outputs": []
    },
    {
      "cell_type": "code",
      "source": [
        "# Train YOLOv5s on COCO128 for 3 epochs\n",
        "\n",
        "!python ./yolov5/train.py --img 576 --batch 128 --epochs 100 --data yolo.yaml --weights yolov5s.pt"
      ],
      "metadata": {
        "id": "hM08MP2CuzHt"
      },
      "execution_count": null,
      "outputs": []
    },
    {
      "cell_type": "code",
      "source": [
        ""
      ],
      "metadata": {
        "id": "r7P8WyC_M25w"
      },
      "execution_count": null,
      "outputs": []
    }
  ]
}